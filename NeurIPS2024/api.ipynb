{
 "cells": [
  {
   "cell_type": "code",
   "execution_count": null,
   "metadata": {},
   "outputs": [
    {
     "name": "stderr",
     "output_type": "stream",
     "text": [
      "Getting V2 Notes: 100%|█████████▉| 4030/4035 [00:03<00:00, 1320.80it/s]\n"
     ]
    }
   ],
   "source": [
    "from openreview.api import OpenReviewClient\n",
    "from pathlib import Path\n",
    "\n",
    "venue_id = \"NeurIPS.cc/2024/Conference\"\n",
    "\n",
    "if Path(\"submissions.pkl\").exists():\n",
    "    submissions = pd.read_pickle(\"submissions.pkl\")\n",
    "else:\n",
    "    client = OpenReviewClient(baseurl=\"https://api2.openreview.net\")\n",
    "    submissions = client.get_all_notes(content={\"venueid\": venue_id})\n",
    "    pd.to_pickle(submissions, \"submissions.pkl\")"
   ]
  },
  {
   "cell_type": "code",
   "execution_count": null,
   "metadata": {},
   "outputs": [
    {
     "data": {
      "text/plain": [
       "Counter({'NeurIPS 2024 poster': 3648,\n",
       "         'NeurIPS 2024 spotlight': 326,\n",
       "         'NeurIPS 2024 oral': 61})"
      ]
     },
     "execution_count": 16,
     "metadata": {},
     "output_type": "execute_result"
    }
   ],
   "source": [
    "from collections import Counter\n",
    "\n",
    "Counter([item.content[\"venue\"][\"value\"] for item in submissions])"
   ]
  },
  {
   "cell_type": "code",
   "execution_count": 17,
   "metadata": {},
   "outputs": [
    {
     "data": {
      "text/plain": [
       "False"
      ]
     },
     "execution_count": 17,
     "metadata": {},
     "output_type": "execute_result"
    }
   ],
   "source": [
    "ids = [item.id for item in submissions]\n",
    "\"YZoGmJrOS9\" in ids"
   ]
  },
  {
   "cell_type": "code",
   "execution_count": 19,
   "metadata": {},
   "outputs": [
    {
     "name": "stderr",
     "output_type": "stream",
     "text": [
      "100%|██████████| 4035/4035 [00:09<00:00, 445.60it/s] \n"
     ]
    }
   ],
   "source": [
    "from tqdm import tqdm\n",
    "\n",
    "template = Path(\"template.md\").read_text()\n",
    "full_text = \"\"\n",
    "for item in tqdm(submissions):\n",
    "    full_text += template.format(\n",
    "        title=item.content[\"title\"][\"value\"],\n",
    "        tldr=item.content.get(\"TLDR\", {}).get(\"value\", \"\"),\n",
    "        authors=\", \".join(item.content[\"authors\"][\"value\"]),\n",
    "        venue=item.content[\"venue\"][\"value\"],\n",
    "        abstract=item.content[\"abstract\"][\"value\"],\n",
    "        primary_area=item.content[\"primary_area\"][\"value\"],\n",
    "        keywords=\", \".join(item.content[\"keywords\"][\"value\"]),\n",
    "        id=item.id,\n",
    "    )"
   ]
  },
  {
   "cell_type": "code",
   "execution_count": 20,
   "metadata": {},
   "outputs": [
    {
     "data": {
      "text/plain": [
       "7520863"
      ]
     },
     "execution_count": 20,
     "metadata": {},
     "output_type": "execute_result"
    }
   ],
   "source": [
    "Path(\"submissions.md\").write_text(full_text)"
   ]
  }
 ],
 "metadata": {
  "kernelspec": {
   "display_name": ".venv",
   "language": "python",
   "name": "python3"
  },
  "language_info": {
   "codemirror_mode": {
    "name": "ipython",
    "version": 3
   },
   "file_extension": ".py",
   "mimetype": "text/x-python",
   "name": "python",
   "nbconvert_exporter": "python",
   "pygments_lexer": "ipython3",
   "version": "3.12.4"
  }
 },
 "nbformat": 4,
 "nbformat_minor": 2
}
