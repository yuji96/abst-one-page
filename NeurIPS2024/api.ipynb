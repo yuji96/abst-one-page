{
 "cells": [
  {
   "cell_type": "code",
   "execution_count": 2,
   "metadata": {},
   "outputs": [],
   "source": [
    "from openreview.api import OpenReviewClient\n",
    "from pathlib import Path\n",
    "import pandas as pd\n",
    "\n",
    "venue_id = \"NeurIPS.cc/2024/Conference\"\n",
    "\n",
    "if Path(\"submissions.pkl\").exists():\n",
    "    submissions = pd.read_pickle(\"submissions.pkl\")\n",
    "else:\n",
    "    client = OpenReviewClient(baseurl=\"https://api2.openreview.net\")\n",
    "    submissions = client.get_all_notes(content={\"venueid\": venue_id})\n",
    "    pd.to_pickle(submissions, \"submissions.pkl\")"
   ]
  },
  {
   "cell_type": "code",
   "execution_count": 5,
   "metadata": {},
   "outputs": [
    {
     "name": "stdout",
     "output_type": "stream",
     "text": [
      "4035\n",
      "Counter({'NeurIPS 2024 poster': 3648, 'NeurIPS 2024 spotlight': 326, 'NeurIPS 2024 oral': 61})\n"
     ]
    }
   ],
   "source": [
    "from collections import Counter\n",
    "\n",
    "print(len(submissions))\n",
    "\n",
    "# reject は含まれていない\n",
    "print(Counter([item.content[\"venue\"][\"value\"] for item in submissions]))"
   ]
  },
  {
   "cell_type": "code",
   "execution_count": null,
   "metadata": {},
   "outputs": [
    {
     "name": "stdout",
     "output_type": "stream",
     "text": [
      "Counter({'machine_vision': 579,\n",
      "         'natural_language_processing': 300,\n",
      "         'reinforcement_learning': 276,\n",
      "         'learning_theory': 251,\n",
      "         'diffusion_based_models': 221,\n",
      "         'generative_models': 204,\n",
      "         'optimization': 189,\n",
      "         'deep_learning_architectures': 186,\n",
      "         'safety_in_machine_learning': 180,\n",
      "         'other': 147,\n",
      "         'machine_learning_for_other_sciences_and_fields': 145,\n",
      "         'probabilistic_methods': 125,\n",
      "         'optimization_for_deep_networks': 123,\n",
      "         'graph_neural_networks': 121,\n",
      "         'interpretability_and_explainability': 121,\n",
      "         'neuroscience_and_cognitive_science': 107,\n",
      "         'machine_learning_for_physical_sciences': 87,\n",
      "         'privacy': 84,\n",
      "         'causal_inference': 79,\n",
      "         'machine_learning_for_healthcare': 75,\n",
      "         'online_learning': 62,\n",
      "         'bandits': 61,\n",
      "         'algorithmic_game_theory': 54,\n",
      "         'fairness': 47,\n",
      "         'evaluation': 46,\n",
      "         'robotics': 43,\n",
      "         'speech_and_audio': 29,\n",
      "         'infrastructure': 27,\n",
      "         'active_learning': 25,\n",
      "         'human-AI_interaction': 22,\n",
      "         'machine_learning_for_social_sciences': 19})\n"
     ]
    }
   ],
   "source": [
    "from pprint import pprint\n",
    "\n",
    "\n",
    "pprint(Counter([item.content[\"primary_area\"][\"value\"] for item in submissions]))\n",
    "# natural_language_processing, reinforcement_learning, learning_theory"
   ]
  },
  {
   "cell_type": "code",
   "execution_count": 7,
   "metadata": {},
   "outputs": [
    {
     "data": {
      "text/plain": [
       "['natural_language_processing',\n",
       " 'reinforcement_learning',\n",
       " 'diffusion_based_models',\n",
       " 'deep_learning_architectures',\n",
       " 'interpretability_and_explainability',\n",
       " 'neuroscience_and_cognitive_science',\n",
       " 'privacy',\n",
       " 'causal_inference',\n",
       " 'machine_learning_for_healthcare',\n",
       " 'online_learning',\n",
       " 'bandits',\n",
       " 'algorithmic_game_theory',\n",
       " 'fairness',\n",
       " 'evaluation',\n",
       " 'robotics',\n",
       " 'speech_and_audio',\n",
       " 'infrastructure',\n",
       " 'active_learning',\n",
       " 'human-AI_interaction',\n",
       " 'machine_learning_for_social_sciences',\n",
       " 'other']"
      ]
     },
     "execution_count": 7,
     "metadata": {},
     "output_type": "execute_result"
    }
   ],
   "source": [
    "import yaml\n",
    "\n",
    "config = yaml.safe_load(Path(\"config.yaml\").read_text())\n",
    "config[\"include\"]"
   ]
  },
  {
   "cell_type": "code",
   "execution_count": null,
   "metadata": {},
   "outputs": [
    {
     "name": "stderr",
     "output_type": "stream",
     "text": [
      "100%|██████████| 4035/4035 [00:07<00:00, 524.02it/s] \n"
     ]
    }
   ],
   "source": [
    "from tqdm import tqdm\n",
    "import yaml\n",
    "\n",
    "config = yaml.safe_load(Path(\"config.yaml\").read_text())\n",
    "include_set = set(config[\"include\"])\n",
    "\n",
    "template = Path(\"template.md\").read_text()\n",
    "full_text = \"\"\n",
    "for item in tqdm(submissions):\n",
    "    if item.content[\"primary_area\"][\"value\"] not in include_set:\n",
    "        continue\n",
    "\n",
    "    full_text += template.format(\n",
    "        title=item.content[\"title\"][\"value\"],\n",
    "        tldr=item.content.get(\"TLDR\", {}).get(\"value\", \"\"),\n",
    "        authors=\", \".join(item.content[\"authors\"][\"value\"]),\n",
    "        venue=item.content[\"venue\"][\"value\"],\n",
    "        abstract=item.content[\"abstract\"][\"value\"],\n",
    "        primary_area=item.content[\"primary_area\"][\"value\"],\n",
    "        keywords=\", \".join(item.content[\"keywords\"][\"value\"]),\n",
    "        id=item.id,\n",
    "    )"
   ]
  },
  {
   "cell_type": "code",
   "execution_count": 14,
   "metadata": {},
   "outputs": [
    {
     "data": {
      "text/plain": [
       "6721286"
      ]
     },
     "execution_count": 14,
     "metadata": {},
     "output_type": "execute_result"
    }
   ],
   "source": [
    "Path(\"submissions.md\").write_text(full_text)"
   ]
  }
 ],
 "metadata": {
  "kernelspec": {
   "display_name": ".venv",
   "language": "python",
   "name": "python3"
  },
  "language_info": {
   "codemirror_mode": {
    "name": "ipython",
    "version": 3
   },
   "file_extension": ".py",
   "mimetype": "text/x-python",
   "name": "python",
   "nbconvert_exporter": "python",
   "pygments_lexer": "ipython3",
   "version": "3.12.4"
  }
 },
 "nbformat": 4,
 "nbformat_minor": 2
}
